{
  "nbformat": 4,
  "nbformat_minor": 0,
  "metadata": {
    "colab": {
      "provenance": [],
      "gpuType": "T4"
    },
    "kernelspec": {
      "name": "python3",
      "display_name": "Python 3"
    },
    "language_info": {
      "name": "python"
    },
    "accelerator": "GPU"
  },
  "cells": [
    {
      "cell_type": "code",
      "execution_count": 2,
      "metadata": {
        "id": "qWBCtkvksIuw"
      },
      "outputs": [],
      "source": [
        "import tensorflow as tf\n",
        "from  tensorflow import keras\n",
        "from keras.datasets import mnist\n",
        "from keras.layers import Dense, Flatten, Conv2D, AveragePooling2D\n",
        "from keras.models import Sequential"
      ]
    },
    {
      "cell_type": "code",
      "source": [
        "(x_train, y_train), (x_test, y_test) = mnist.load_data()"
      ],
      "metadata": {
        "colab": {
          "base_uri": "https://localhost:8080/"
        },
        "id": "8bCTvar1tqKR",
        "outputId": "75eab3fb-cc51-4a30-912a-f1d03ed8fe4f"
      },
      "execution_count": 3,
      "outputs": [
        {
          "output_type": "stream",
          "name": "stdout",
          "text": [
            "Downloading data from https://storage.googleapis.com/tensorflow/tf-keras-datasets/mnist.npz\n",
            "11490434/11490434 [==============================] - 0s 0us/step\n"
          ]
        }
      ]
    },
    {
      "cell_type": "code",
      "source": [
        "x_test.shape"
      ],
      "metadata": {
        "colab": {
          "base_uri": "https://localhost:8080/"
        },
        "id": "tbtR_bzRt113",
        "outputId": "880f83a8-7d65-4a79-ad5b-753564658aa3"
      },
      "execution_count": 4,
      "outputs": [
        {
          "output_type": "execute_result",
          "data": {
            "text/plain": [
              "(10000, 28, 28)"
            ]
          },
          "metadata": {},
          "execution_count": 4
        }
      ]
    },
    {
      "cell_type": "code",
      "source": [
        "# performing reshaping\n",
        "x_train = x_train.reshape(x_train.shape[0], 28,28,1)   #there is nochannel so we add one chanel here so it's any gray scale image\n",
        "x_test =x_test.reshape(x_test.shape[0],28,28,1) # grayscale image"
      ],
      "metadata": {
        "id": "lJ48WgkhuChB"
      },
      "execution_count": 5,
      "outputs": []
    },
    {
      "cell_type": "code",
      "source": [
        "x_train.shape\n"
      ],
      "metadata": {
        "colab": {
          "base_uri": "https://localhost:8080/"
        },
        "id": "K90IAQPqubNc",
        "outputId": "64b5c379-3ccc-4cca-c152-6ed5574541fc"
      },
      "execution_count": 6,
      "outputs": [
        {
          "output_type": "execute_result",
          "data": {
            "text/plain": [
              "(60000, 28, 28, 1)"
            ]
          },
          "metadata": {},
          "execution_count": 6
        }
      ]
    },
    {
      "cell_type": "code",
      "source": [
        "# Normlization of data\n",
        "x_train = x_train / 255\n",
        "x_test = x_test / 255  # min -0, max-1"
      ],
      "metadata": {
        "id": "zLhSEe-2udLL"
      },
      "execution_count": 7,
      "outputs": []
    },
    {
      "cell_type": "code",
      "source": [
        "y_train[0]"
      ],
      "metadata": {
        "colab": {
          "base_uri": "https://localhost:8080/"
        },
        "id": "T7WovOzzvZt_",
        "outputId": "ed112db2-8de7-4d21-b73f-b2b4b8791d78"
      },
      "execution_count": 8,
      "outputs": [
        {
          "output_type": "execute_result",
          "data": {
            "text/plain": [
              "5"
            ]
          },
          "metadata": {},
          "execution_count": 8
        }
      ]
    },
    {
      "cell_type": "code",
      "source": [
        "# class - 0,1,2,3,4,5,6,7,8,9\n",
        "# one hot encoding\n",
        "y_train = keras.utils.to_categorical(y_train, 10)\n",
        "y_test = keras.utils.to_categorical(y_test, 10)"
      ],
      "metadata": {
        "id": "EiSpz425vbJ5"
      },
      "execution_count": 9,
      "outputs": []
    },
    {
      "cell_type": "code",
      "source": [
        "y_train[0]"
      ],
      "metadata": {
        "colab": {
          "base_uri": "https://localhost:8080/"
        },
        "id": "0IkQAgOYxsaC",
        "outputId": "ec483878-0626-4b16-d7dc-2ff5a9e4fe7b"
      },
      "execution_count": 10,
      "outputs": [
        {
          "output_type": "execute_result",
          "data": {
            "text/plain": [
              "array([0., 0., 0., 0., 0., 1., 0., 0., 0., 0.], dtype=float32)"
            ]
          },
          "metadata": {},
          "execution_count": 10
        }
      ]
    },
    {
      "cell_type": "code",
      "source": [
        "model = Sequential()\n",
        "# layer 1\n",
        "model.add(Conv2D(6, kernel_size = (5,5), padding = 'valid', activation='tanh', input_shape = (28,28,1)))\n",
        "model.add(AveragePooling2D(pool_size=(2,2) , strides=2 ,padding='valid'))\n",
        "# layer 2\n",
        "model.add(Conv2D(6, kernel_size = (5,5), padding = 'valid', activation='tanh'))\n",
        "model.add(AveragePooling2D(pool_size=(2,2) , strides=2 ,padding='valid'))\n",
        "\n",
        "model.add(Flatten())\n",
        "\n",
        "model.add(Dense(120, activation='tanh')) # layer 3\n",
        "model.add(Dense(84, activation='tanh')) # layer 4\n",
        "model.add(Dense(10, activation='softmax')) # layer 5\n"
      ],
      "metadata": {
        "id": "d2SeGFNyxtw2"
      },
      "execution_count": 11,
      "outputs": []
    },
    {
      "cell_type": "code",
      "source": [
        "model.summary()"
      ],
      "metadata": {
        "colab": {
          "base_uri": "https://localhost:8080/"
        },
        "id": "2Eb8pUg-zsoY",
        "outputId": "28e7d874-2492-43b9-cc4b-7c5ad4582dfb"
      },
      "execution_count": 12,
      "outputs": [
        {
          "output_type": "stream",
          "name": "stdout",
          "text": [
            "Model: \"sequential\"\n",
            "_________________________________________________________________\n",
            " Layer (type)                Output Shape              Param #   \n",
            "=================================================================\n",
            " conv2d (Conv2D)             (None, 24, 24, 6)         156       \n",
            "                                                                 \n",
            " average_pooling2d (Average  (None, 12, 12, 6)         0         \n",
            " Pooling2D)                                                      \n",
            "                                                                 \n",
            " conv2d_1 (Conv2D)           (None, 8, 8, 6)           906       \n",
            "                                                                 \n",
            " average_pooling2d_1 (Avera  (None, 4, 4, 6)           0         \n",
            " gePooling2D)                                                    \n",
            "                                                                 \n",
            " flatten (Flatten)           (None, 96)                0         \n",
            "                                                                 \n",
            " dense (Dense)               (None, 120)               11640     \n",
            "                                                                 \n",
            " dense_1 (Dense)             (None, 84)                10164     \n",
            "                                                                 \n",
            " dense_2 (Dense)             (None, 10)                850       \n",
            "                                                                 \n",
            "=================================================================\n",
            "Total params: 23716 (92.64 KB)\n",
            "Trainable params: 23716 (92.64 KB)\n",
            "Non-trainable params: 0 (0.00 Byte)\n",
            "_________________________________________________________________\n"
          ]
        }
      ]
    },
    {
      "cell_type": "code",
      "source": [
        "model.compile(loss = keras.metrics.categorical_crossentropy, optimizer= keras.optimizers.Adam(), metrics = ['accuracy'])"
      ],
      "metadata": {
        "id": "aDCloehQz4VF"
      },
      "execution_count": 13,
      "outputs": []
    },
    {
      "cell_type": "code",
      "source": [
        "model.fit(x_train, y_train, batch_size = 128, epochs =10, verbose=1, validation_data = (x_test, y_test))"
      ],
      "metadata": {
        "colab": {
          "base_uri": "https://localhost:8080/"
        },
        "id": "1iL-PHAH0rv_",
        "outputId": "5fc07499-8c9c-4749-8015-8cc6cbbfc6a5"
      },
      "execution_count": 14,
      "outputs": [
        {
          "output_type": "stream",
          "name": "stdout",
          "text": [
            "Epoch 1/10\n",
            "469/469 [==============================] - 12s 6ms/step - loss: 0.4000 - accuracy: 0.8873 - val_loss: 0.1848 - val_accuracy: 0.9448\n",
            "Epoch 2/10\n",
            "469/469 [==============================] - 3s 7ms/step - loss: 0.1507 - accuracy: 0.9539 - val_loss: 0.1078 - val_accuracy: 0.9679\n",
            "Epoch 3/10\n",
            "469/469 [==============================] - 2s 5ms/step - loss: 0.1016 - accuracy: 0.9696 - val_loss: 0.0820 - val_accuracy: 0.9742\n",
            "Epoch 4/10\n",
            "469/469 [==============================] - 2s 5ms/step - loss: 0.0784 - accuracy: 0.9757 - val_loss: 0.0680 - val_accuracy: 0.9786\n",
            "Epoch 5/10\n",
            "469/469 [==============================] - 2s 5ms/step - loss: 0.0656 - accuracy: 0.9802 - val_loss: 0.0620 - val_accuracy: 0.9795\n",
            "Epoch 6/10\n",
            "469/469 [==============================] - 2s 5ms/step - loss: 0.0570 - accuracy: 0.9823 - val_loss: 0.0532 - val_accuracy: 0.9831\n",
            "Epoch 7/10\n",
            "469/469 [==============================] - 3s 7ms/step - loss: 0.0495 - accuracy: 0.9845 - val_loss: 0.0576 - val_accuracy: 0.9825\n",
            "Epoch 8/10\n",
            "469/469 [==============================] - 2s 5ms/step - loss: 0.0438 - accuracy: 0.9861 - val_loss: 0.0491 - val_accuracy: 0.9831\n",
            "Epoch 9/10\n",
            "469/469 [==============================] - 3s 5ms/step - loss: 0.0395 - accuracy: 0.9878 - val_loss: 0.0483 - val_accuracy: 0.9843\n",
            "Epoch 10/10\n",
            "469/469 [==============================] - 2s 5ms/step - loss: 0.0349 - accuracy: 0.9889 - val_loss: 0.0484 - val_accuracy: 0.9842\n"
          ]
        },
        {
          "output_type": "execute_result",
          "data": {
            "text/plain": [
              "<keras.src.callbacks.History at 0x7c6895035390>"
            ]
          },
          "metadata": {},
          "execution_count": 14
        }
      ]
    },
    {
      "cell_type": "code",
      "source": [
        "score = model.evaluate(x_test, y_test)\n",
        "print(\"Test loss : \", score[0])\n",
        "print(\"Test accuracy: \", score[1])"
      ],
      "metadata": {
        "colab": {
          "base_uri": "https://localhost:8080/"
        },
        "id": "-KIP_j3106oQ",
        "outputId": "425f65e0-a8d0-45bc-b1a6-084ecc5db6eb"
      },
      "execution_count": 16,
      "outputs": [
        {
          "output_type": "stream",
          "name": "stdout",
          "text": [
            "313/313 [==============================] - 1s 4ms/step - loss: 0.0484 - accuracy: 0.9842\n",
            "Test loss :  0.04837605729699135\n",
            "Test accuracy:  0.9842000007629395\n"
          ]
        }
      ]
    },
    {
      "cell_type": "code",
      "source": [
        "model.predict(x_test)"
      ],
      "metadata": {
        "colab": {
          "base_uri": "https://localhost:8080/"
        },
        "id": "UEOzvZIQFRmN",
        "outputId": "81ba25f6-fde2-4db2-a219-756014aba2f8"
      },
      "execution_count": 18,
      "outputs": [
        {
          "output_type": "stream",
          "name": "stdout",
          "text": [
            "313/313 [==============================] - 1s 2ms/step\n"
          ]
        },
        {
          "output_type": "execute_result",
          "data": {
            "text/plain": [
              "array([[5.43084161e-06, 9.18878698e-07, 2.54124498e-05, ...,\n",
              "        9.99882102e-01, 3.01694826e-07, 7.17691228e-06],\n",
              "       [1.57997329e-05, 2.24099000e-04, 9.99712646e-01, ...,\n",
              "        4.14470449e-08, 4.34989761e-06, 2.44593190e-09],\n",
              "       [1.07534035e-07, 9.99965072e-01, 4.13219277e-06, ...,\n",
              "        2.65448784e-06, 1.58065704e-05, 6.91215519e-07],\n",
              "       ...,\n",
              "       [8.02882880e-08, 2.37416060e-07, 4.02681302e-08, ...,\n",
              "        5.38670884e-06, 1.43747393e-05, 1.02922902e-04],\n",
              "       [2.21766959e-06, 2.25600214e-08, 1.65041225e-09, ...,\n",
              "        2.17763567e-08, 2.34056733e-05, 2.07127584e-07],\n",
              "       [5.48783355e-05, 6.73445726e-08, 2.01454550e-05, ...,\n",
              "        2.17781366e-08, 4.70547129e-05, 4.83179221e-08]], dtype=float32)"
            ]
          },
          "metadata": {},
          "execution_count": 18
        }
      ]
    }
  ]
}